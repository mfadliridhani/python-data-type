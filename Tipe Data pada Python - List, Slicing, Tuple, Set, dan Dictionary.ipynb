{
 "cells": [
  {
   "cell_type": "markdown",
   "id": "0b0ec2e0",
   "metadata": {},
   "source": [
    "Tipe Data pada Python - List, Slicing, Tuple, Set, dan Dictionary\n",
    "\n",
    "\n",
    "List\n",
    "List adalah jenis kumpulan data terurut (ordered sequence), dan merupakan salah satu variabel yang sering digunakan pada Python. Serupa, namun tak sama dengan array pada bahasa pemrograman lainnya. Bedanya, elemen List pada Python tidak harus memiliki tipe data yang sama. Mendeklarasikan List cukup mudah dengan kurung siku dan elemen yang dipisahkan dengan koma. \n",
    "\n",
    "Setiap data di dalamnya dapat diakses dengan indeks yang dimulai dari 0."
   ]
  },
  {
   "cell_type": "code",
   "execution_count": 1,
   "id": "ac3237d8",
   "metadata": {},
   "outputs": [],
   "source": [
    "a = [1, 2.2, 'python']"
   ]
  },
  {
   "cell_type": "markdown",
   "id": "1dc5b8e0",
   "metadata": {},
   "source": [
    "Python mengenal slicing operator [] yang dapat melakukan ekstraksi sebuah item atau beberapa item yang berada dalam range tertentu pada tipe data urutan (sequences), misalnya list, string dan tuple. Beberapa tipe urutan juga mendukung \"extended slicing\" dengan parameter ketiga berupa \"step\"."
   ]
  },
  {
   "cell_type": "markdown",
   "id": "cf6c3730",
   "metadata": {},
   "source": [
    "x[0] artinya mengambil elemen paling awal, dengan index 0 dari List x.\n",
    "\n",
    "x[5] artinya mengambil elemen dengan index 5 dari List x.\n",
    "\n",
    "x[-1] artinya mengambil elemen dengan index paling belakang ke-1 dari List x.\n",
    "\n",
    "x[3:5] artinya membuat list dari anggota elemen List x dengan index 3 hingga sebelum index 5 (tidak termasuk elemen dengan index 5, dalam hal ini hanya index 3-4).\n",
    "\n",
    "x[:5] artinya membuat list dari anggota elemen List x paling awal hingga sebelum index 5 (tidak termasuk elemen dengan index 5, dalam hal ini hanya index 0-4).\n",
    "\n",
    "x[-3:] artinya membuat list dari anggota elemen List x mulai index ke-3 dari belakang hingga paling belakang.\n",
    "\n",
    "x[1:7:2] artinya membuat list dari anggota elemen List x dengan index 1 hingga sebelum index 7, dengan \"step\" 2 (dalam hal ini hanya index 1, 3, 5)."
   ]
  },
  {
   "cell_type": "code",
   "execution_count": 2,
   "id": "442a88ca",
   "metadata": {},
   "outputs": [
    {
     "name": "stdout",
     "output_type": "stream",
     "text": [
      "30\n",
      "40\n",
      "[20, 25]\n",
      "[5, 10, 15, 20, 25]\n",
      "[30, 35, 40]\n",
      "[10, 20, 30]\n"
     ]
    }
   ],
   "source": [
    "x = [5,10,15,20,25,30,35,40]\n",
    "print(x[5])\n",
    "print(x[-1])\n",
    "print(x[3:5])\n",
    "print(x[:5])\n",
    "print(x[-3:])\n",
    "print(x[1:7:2])"
   ]
  },
  {
   "cell_type": "markdown",
   "id": "cfe3f9b0",
   "metadata": {},
   "source": [
    "Elemen pada list dapat diubah atau ditambahkan. Misalnya untuk melakukan perubahan kemudian penambahan:"
   ]
  },
  {
   "cell_type": "code",
   "execution_count": 3,
   "id": "0016eb59",
   "metadata": {},
   "outputs": [
    {
     "name": "stdout",
     "output_type": "stream",
     "text": [
      "[1, 2, 4]\n"
     ]
    }
   ],
   "source": [
    "x = [1,2,3]\n",
    "x[2]=4\n",
    "print(x)"
   ]
  },
  {
   "cell_type": "code",
   "execution_count": 4,
   "id": "537c174a",
   "metadata": {},
   "outputs": [
    {
     "name": "stdout",
     "output_type": "stream",
     "text": [
      "[1, 2, 4, 5]\n"
     ]
    }
   ],
   "source": [
    "x = [1,2,3]\n",
    "x[2]=4\n",
    "x.append(5)\n",
    "print(x)"
   ]
  },
  {
   "cell_type": "markdown",
   "id": "ecb1ac66",
   "metadata": {},
   "source": [
    "Untuk menghapus item pada list, gunakan fungsi del. Ingat bahwa Indeks Python dimulai dari 0:"
   ]
  },
  {
   "cell_type": "code",
   "execution_count": 5,
   "id": "25af9f58",
   "metadata": {},
   "outputs": [
    {
     "name": "stdout",
     "output_type": "stream",
     "text": [
      "['kucing', 'rusa', 'gajah']\n"
     ]
    }
   ],
   "source": [
    "binatang = ['kucing', 'rusa', 'badak', 'gajah']\n",
    "del binatang[2]\n",
    "print(binatang)"
   ]
  },
  {
   "cell_type": "markdown",
   "id": "63ee503a",
   "metadata": {},
   "source": [
    "Coba tambahkan lagi kode berikut:"
   ]
  },
  {
   "cell_type": "code",
   "execution_count": 6,
   "id": "8faa88d1",
   "metadata": {},
   "outputs": [
    {
     "name": "stdout",
     "output_type": "stream",
     "text": [
      "['kucing', 'rusa']\n"
     ]
    }
   ],
   "source": [
    "del binatang[2]\n",
    "print(binatang)"
   ]
  },
  {
   "cell_type": "markdown",
   "id": "1d4c839a",
   "metadata": {},
   "source": [
    "Slicing pada String\n",
    "\n",
    "Karena string mirip dengan list, maka slicing operator [ ]  juga dapat digunakan pada string untuk mengambil isinya atau bahkan substring. Sebuah string utuh bersifat mutable (bisa diubah), namun elemennya bersifat immutable (tidak bisa diubah)."
   ]
  },
  {
   "cell_type": "code",
   "execution_count": 7,
   "id": "ed5cfbcb",
   "metadata": {},
   "outputs": [
    {
     "name": "stdout",
     "output_type": "stream",
     "text": [
      "o\n",
      "World\n"
     ]
    },
    {
     "ename": "TypeError",
     "evalue": "'str' object does not support item assignment",
     "output_type": "error",
     "traceback": [
      "\u001b[1;31m---------------------------------------------------------------------------\u001b[0m",
      "\u001b[1;31mTypeError\u001b[0m                                 Traceback (most recent call last)",
      "Cell \u001b[1;32mIn [7], line 4\u001b[0m\n\u001b[0;32m      2\u001b[0m \u001b[38;5;28mprint\u001b[39m(s[\u001b[38;5;241m4\u001b[39m]) \t\t\u001b[38;5;66;03m#ambil karakter kelima dari string s\u001b[39;00m\n\u001b[0;32m      3\u001b[0m \u001b[38;5;28mprint\u001b[39m(s[\u001b[38;5;241m6\u001b[39m:\u001b[38;5;241m11\u001b[39m]) \t\t\u001b[38;5;66;03m#ambil karakter ketujuh hingga sebelas dari string s\u001b[39;00m\n\u001b[1;32m----> 4\u001b[0m s[\u001b[38;5;241m5\u001b[39m]\u001b[38;5;241m=\u001b[39m\u001b[38;5;124m\"\u001b[39m\u001b[38;5;124md\u001b[39m\u001b[38;5;124m\"\u001b[39m \t\t\u001b[38;5;66;03m#ubah karakter keenam dari string s menjadi \"d\", seharusnya gagal karena immutable\u001b[39;00m\n\u001b[0;32m      5\u001b[0m s \u001b[38;5;241m=\u001b[39m \u001b[38;5;124m\"\u001b[39m\u001b[38;5;124mHalo Dunia!\u001b[39m\u001b[38;5;124m\"\u001b[39m\t\u001b[38;5;66;03m#ubah isi string s menjadi \"Halo Dunia!\", seharusnya berhasil karena mutable\u001b[39;00m\n\u001b[0;32m      6\u001b[0m \u001b[38;5;28mprint\u001b[39m(s)\n",
      "\u001b[1;31mTypeError\u001b[0m: 'str' object does not support item assignment"
     ]
    }
   ],
   "source": [
    "s = \"Hello World!\"\n",
    "print(s[4]) \t\t#ambil karakter kelima dari string s\n",
    "print(s[6:11]) \t\t#ambil karakter ketujuh hingga sebelas dari string s\n",
    "s[5]=\"d\" \t\t#ubah karakter keenam dari string s menjadi \"d\", seharusnya gagal karena immutable\n",
    "s = \"Halo Dunia!\"\t#ubah isi string s menjadi \"Halo Dunia!\", seharusnya berhasil karena mutable\n",
    "print(s)"
   ]
  },
  {
   "cell_type": "markdown",
   "id": "50b27fbc",
   "metadata": {},
   "source": [
    "Tuple\n",
    "\n",
    "Tuple adalah jenis dari list yang tidak dapat diubah elemennya. Umumnya tuple digunakan untuk data yang bersifat sekali tulis, dan dapat dieksekusi lebih cepat. Tuple didefinisikan dengan kurung dan elemen yang dipisahkan dengan koma."
   ]
  },
  {
   "cell_type": "code",
   "execution_count": 8,
   "id": "ce09aa91",
   "metadata": {},
   "outputs": [],
   "source": [
    "t = (5,'program', 1+3j)"
   ]
  },
  {
   "cell_type": "markdown",
   "id": "e369b389",
   "metadata": {},
   "source": [
    "Seperti list, kita dapat melakukan slicing, namun pada tuple kita tidak dapat melakukan perubahan:"
   ]
  },
  {
   "cell_type": "code",
   "execution_count": 10,
   "id": "8ca2e449",
   "metadata": {},
   "outputs": [
    {
     "ename": "SyntaxError",
     "evalue": "expression cannot contain assignment, perhaps you meant \"==\"? (3666945624.py, line 4)",
     "output_type": "error",
     "traceback": [
      "\u001b[1;36m  Cell \u001b[1;32mIn [10], line 4\u001b[1;36m\u001b[0m\n\u001b[1;33m    print(t[0]=10)\u001b[0m\n\u001b[1;37m          ^\u001b[0m\n\u001b[1;31mSyntaxError\u001b[0m\u001b[1;31m:\u001b[0m expression cannot contain assignment, perhaps you meant \"==\"?\n"
     ]
    }
   ],
   "source": [
    "t = (5,'program', 1+3j)\n",
    "print(t[1])\n",
    "print(t[0:3])\n",
    "print(t[0]=10)"
   ]
  },
  {
   "cell_type": "markdown",
   "id": "2f73024c",
   "metadata": {},
   "source": [
    "Set\n",
    "\n",
    "Set adalah kumpulan item bersifat unik dan tanpa urutan (unordered collection). Didefinisikan dengan kurawal dan elemennya dipisahkan dengan koma. Pada Set kita dapat melakukan union dan intersection, sekaligus otomatis melakukan penghapusan data duplikat."
   ]
  },
  {
   "cell_type": "code",
   "execution_count": 11,
   "id": "fcf12b74",
   "metadata": {},
   "outputs": [
    {
     "name": "stdout",
     "output_type": "stream",
     "text": [
      "{1, 2, 3}\n"
     ]
    }
   ],
   "source": [
    "a = {1,2,2,3,3,3}\n",
    "print(a)"
   ]
  },
  {
   "cell_type": "markdown",
   "id": "2f0a2a28",
   "metadata": {},
   "source": [
    "Karena set bersifat unordered, maka kita tidak bisa mengambil sebagian data / elemen datanya menggunakan proses slicing."
   ]
  },
  {
   "cell_type": "code",
   "execution_count": 12,
   "id": "8e1ff644",
   "metadata": {},
   "outputs": [
    {
     "ename": "TypeError",
     "evalue": "'set' object is not subscriptable",
     "output_type": "error",
     "traceback": [
      "\u001b[1;31m---------------------------------------------------------------------------\u001b[0m",
      "\u001b[1;31mTypeError\u001b[0m                                 Traceback (most recent call last)",
      "Cell \u001b[1;32mIn [12], line 2\u001b[0m\n\u001b[0;32m      1\u001b[0m a \u001b[38;5;241m=\u001b[39m {\u001b[38;5;241m1\u001b[39m,\u001b[38;5;241m2\u001b[39m,\u001b[38;5;241m3\u001b[39m}\n\u001b[1;32m----> 2\u001b[0m \u001b[38;5;28mprint\u001b[39m(a[\u001b[38;5;241m1\u001b[39m])\n",
      "\u001b[1;31mTypeError\u001b[0m: 'set' object is not subscriptable"
     ]
    }
   ],
   "source": [
    "a = {1,2,3}\n",
    "print(a[1])"
   ]
  },
  {
   "cell_type": "markdown",
   "id": "cc37ae42",
   "metadata": {},
   "source": [
    "Dictionary\n",
    "\n",
    "Dictionary pada Python adalah kumpulan pasangan kunci-nilai (pair of key-value) yang bersifat tidak berurutan. Dictionary dapat digunakan untuk menyimpan data kecil hingga besar. Untuk mengakses datanya, kita harus mengetahui kuncinya (key). Pada Python, dictionary didefinisikan dengan kurawal dan tambahan definisi berikut:\n",
    "\n",
    "Setiap elemen pair key-value dipisahkan dengan koma (,).\n",
    "\n",
    "Key dan Value dipisahkan dengan titik dua (:).\n",
    "\n",
    "Key dan Value dapat berupa tipe variabel/obyek apapun."
   ]
  },
  {
   "cell_type": "code",
   "execution_count": 13,
   "id": "1dee9b48",
   "metadata": {},
   "outputs": [
    {
     "name": "stdout",
     "output_type": "stream",
     "text": [
      "<class 'dict'>\n"
     ]
    }
   ],
   "source": [
    "d = {1:'value','key':2}\n",
    "print(type(d))"
   ]
  },
  {
   "cell_type": "code",
   "execution_count": 14,
   "id": "e1481c78",
   "metadata": {},
   "outputs": [
    {
     "name": "stdout",
     "output_type": "stream",
     "text": [
      "<class 'dict'>\n",
      "d[1] =  value\n",
      "d['key'] =  2\n"
     ]
    }
   ],
   "source": [
    "d = {1:'value','key':2}\n",
    "print(type(d))\n",
    "print(\"d[1] = \", d[1]);\n",
    "print(\"d['key'] = \", d['key']);"
   ]
  },
  {
   "cell_type": "markdown",
   "id": "cdeea8f0",
   "metadata": {},
   "source": [
    "Dictionary bukan termasuk dalam implementasi urutan (sequences), sehingga tidak bisa dipanggil dengan urutan indeks. Misalnya dalam contoh berikut dicoba dengan indeks 2, tetapi menghasilkan error (KeyError) karena tidak ada kunci (key) 2:"
   ]
  },
  {
   "cell_type": "code",
   "execution_count": 15,
   "id": "371dce07",
   "metadata": {},
   "outputs": [
    {
     "name": "stdout",
     "output_type": "stream",
     "text": [
      "<class 'dict'>\n",
      "d[1] =  value\n",
      "d['key'] =  2\n"
     ]
    },
    {
     "ename": "KeyError",
     "evalue": "2",
     "output_type": "error",
     "traceback": [
      "\u001b[1;31m---------------------------------------------------------------------------\u001b[0m",
      "\u001b[1;31mKeyError\u001b[0m                                  Traceback (most recent call last)",
      "Cell \u001b[1;32mIn [15], line 7\u001b[0m\n\u001b[0;32m      4\u001b[0m \u001b[38;5;28mprint\u001b[39m(\u001b[38;5;124m\"\u001b[39m\u001b[38;5;124md[\u001b[39m\u001b[38;5;124m'\u001b[39m\u001b[38;5;124mkey\u001b[39m\u001b[38;5;124m'\u001b[39m\u001b[38;5;124m] = \u001b[39m\u001b[38;5;124m\"\u001b[39m, d[\u001b[38;5;124m'\u001b[39m\u001b[38;5;124mkey\u001b[39m\u001b[38;5;124m'\u001b[39m]);\n\u001b[0;32m      6\u001b[0m \u001b[38;5;66;03m# Generates error\u001b[39;00m\n\u001b[1;32m----> 7\u001b[0m \u001b[38;5;28mprint\u001b[39m(\u001b[38;5;124m\"\u001b[39m\u001b[38;5;124md[2] = \u001b[39m\u001b[38;5;124m\"\u001b[39m, d[\u001b[38;5;241m2\u001b[39m])\n",
      "\u001b[1;31mKeyError\u001b[0m: 2"
     ]
    }
   ],
   "source": [
    "d = {1:'value','key':2}\n",
    "print(type(d))\n",
    "print(\"d[1] = \", d[1]);\n",
    "print(\"d['key'] = \", d['key']);\n",
    " \n",
    "# Generates error\n",
    "print(\"d[2] = \", d[2]);"
   ]
  },
  {
   "cell_type": "markdown",
   "id": "ecc22e9b",
   "metadata": {},
   "source": [
    "Konversi (conversion, cast) antar tipe data\n",
    "\n",
    "Kita dapat melakukan konversi tipe data bawaan dengan menggunakan fungsi konversi tipe bawaan (standard type) misalnya: int(), float(), str(), dll."
   ]
  },
  {
   "cell_type": "code",
   "execution_count": 16,
   "id": "77c3b974",
   "metadata": {},
   "outputs": [
    {
     "name": "stdout",
     "output_type": "stream",
     "text": [
      "5.0\n"
     ]
    }
   ],
   "source": [
    "print(float(5))"
   ]
  },
  {
   "cell_type": "markdown",
   "id": "413eaf23",
   "metadata": {},
   "source": [
    "Konversi float ke int akan bersifat floor/truncating atau menghilangkan nilai di belakang koma."
   ]
  },
  {
   "cell_type": "code",
   "execution_count": 17,
   "id": "8c54ff46",
   "metadata": {},
   "outputs": [
    {
     "name": "stdout",
     "output_type": "stream",
     "text": [
      "10\n"
     ]
    }
   ],
   "source": [
    "print(int(10.6))"
   ]
  },
  {
   "cell_type": "code",
   "execution_count": 18,
   "id": "ad190ab2",
   "metadata": {},
   "outputs": [
    {
     "name": "stdout",
     "output_type": "stream",
     "text": [
      "-10\n"
     ]
    }
   ],
   "source": [
    "print(int(-10.6))"
   ]
  },
  {
   "cell_type": "markdown",
   "id": "592684fb",
   "metadata": {},
   "source": [
    "Konversi dari-dan-ke string akan melalui pengujian dan dipastikan validitasnya."
   ]
  },
  {
   "cell_type": "code",
   "execution_count": 19,
   "id": "67b0acf1",
   "metadata": {},
   "outputs": [
    {
     "name": "stdout",
     "output_type": "stream",
     "text": [
      "2.5\n"
     ]
    }
   ],
   "source": [
    "print(float('2.5'))"
   ]
  },
  {
   "cell_type": "code",
   "execution_count": 20,
   "id": "32a0b4f6",
   "metadata": {},
   "outputs": [
    {
     "name": "stdout",
     "output_type": "stream",
     "text": [
      "25\n"
     ]
    }
   ],
   "source": [
    "print(str(25))"
   ]
  },
  {
   "cell_type": "code",
   "execution_count": 21,
   "id": "629309a3",
   "metadata": {},
   "outputs": [
    {
     "ename": "ValueError",
     "evalue": "invalid literal for int() with base 10: '1p'",
     "output_type": "error",
     "traceback": [
      "\u001b[1;31m---------------------------------------------------------------------------\u001b[0m",
      "\u001b[1;31mValueError\u001b[0m                                Traceback (most recent call last)",
      "Cell \u001b[1;32mIn [21], line 1\u001b[0m\n\u001b[1;32m----> 1\u001b[0m \u001b[38;5;28mprint\u001b[39m(\u001b[38;5;28mint\u001b[39m(\u001b[38;5;124m'\u001b[39m\u001b[38;5;124m1p\u001b[39m\u001b[38;5;124m'\u001b[39m))\n",
      "\u001b[1;31mValueError\u001b[0m: invalid literal for int() with base 10: '1p'"
     ]
    }
   ],
   "source": [
    "print(int('1p'))"
   ]
  },
  {
   "cell_type": "markdown",
   "id": "e992135f",
   "metadata": {},
   "source": [
    "Anda juga dapat melakukan konversi kumpulan data (set, list, tuple)."
   ]
  },
  {
   "cell_type": "code",
   "execution_count": 22,
   "id": "12bc0352",
   "metadata": {},
   "outputs": [
    {
     "name": "stdout",
     "output_type": "stream",
     "text": [
      "{1, 2, 3}\n"
     ]
    }
   ],
   "source": [
    "print(set([1,2,3]))"
   ]
  },
  {
   "cell_type": "code",
   "execution_count": 23,
   "id": "b208ea68",
   "metadata": {},
   "outputs": [
    {
     "name": "stdout",
     "output_type": "stream",
     "text": [
      "(5, 6, 7)\n"
     ]
    }
   ],
   "source": [
    "print(tuple({5,6,7}))"
   ]
  },
  {
   "cell_type": "code",
   "execution_count": 24,
   "id": "8ac49873",
   "metadata": {},
   "outputs": [
    {
     "name": "stdout",
     "output_type": "stream",
     "text": [
      "['h', 'e', 'l', 'l', 'o']\n"
     ]
    }
   ],
   "source": [
    "print(list('hello'))"
   ]
  },
  {
   "cell_type": "markdown",
   "id": "10057175",
   "metadata": {},
   "source": [
    "Untuk konversi ke dictionary, data harus memenuhi persyaratan key-value. Berikut adalah dua contoh konversi:\n",
    "\n",
    "List dari beberapa List yang isinya pasangan nilai menjadi Dictionary. \n",
    "\n",
    "Serta konversi List dari beberapa Tuple yang isinya pasangan nilai menjadi Dictionary."
   ]
  },
  {
   "cell_type": "code",
   "execution_count": 25,
   "id": "d2190293",
   "metadata": {},
   "outputs": [
    {
     "name": "stdout",
     "output_type": "stream",
     "text": [
      "{1: 2, 3: 4}\n"
     ]
    }
   ],
   "source": [
    "print(dict([[1,2],[3,4]]))"
   ]
  },
  {
   "cell_type": "code",
   "execution_count": 26,
   "id": "0646752c",
   "metadata": {},
   "outputs": [
    {
     "name": "stdout",
     "output_type": "stream",
     "text": [
      "{3: 26, 4: 44}\n"
     ]
    }
   ],
   "source": [
    "print(dict([(3,26),(4,44)]))"
   ]
  },
  {
   "cell_type": "code",
   "execution_count": null,
   "id": "8976de08",
   "metadata": {},
   "outputs": [],
   "source": []
  }
 ],
 "metadata": {
  "kernelspec": {
   "display_name": "Python 3 (ipykernel)",
   "language": "python",
   "name": "python3"
  },
  "language_info": {
   "codemirror_mode": {
    "name": "ipython",
    "version": 3
   },
   "file_extension": ".py",
   "mimetype": "text/x-python",
   "name": "python",
   "nbconvert_exporter": "python",
   "pygments_lexer": "ipython3",
   "version": "3.10.7"
  }
 },
 "nbformat": 4,
 "nbformat_minor": 5
}
